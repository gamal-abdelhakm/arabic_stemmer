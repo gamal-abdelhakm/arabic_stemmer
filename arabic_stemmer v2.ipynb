{
 "cells": [
  {
   "cell_type": "code",
   "execution_count": 4,
   "metadata": {},
   "outputs": [
    {
     "name": "stdout",
     "output_type": "stream",
     "text": [
      "مقاول\n",
      "مصدر\n",
      "مجال\n",
      "رؤوس\n",
      "ناقض\n",
      "مدرس\n",
      "عاون\n",
      "استقلال\n",
      "كاتب\n",
      "مركز\n",
      "تعليم\n",
      "مشاريع\n",
      "احتراف\n",
      "ضارب\n"
     ]
    }
   ],
   "source": [
    "from MG_Stemmer import Arabic_Stemmer\n",
    "stemmer = Arabic_Stemmer()\n",
    "words = ['المقاولين','المصدرين','المجالات','الرؤوس','المتناقض','المدرسون','التعاونيات','الاستقلالية','أفتكاتبانني','المركزية','تعليمات','مشاريع','احترافية','أفتضاربانني']\n",
    "#words = ['أشباه', 'إعراب', 'إجليلي', 'التحرير', 'التفرد', 'التقويم', 'التهاب', 'الجماليات', 'الحبشة', 'الخصوصية', 'السمسرة', 'السوسيولوجية', 'العرافة', 'الفرقداني', 'الفيلسوفي', 'المركزية', 'المنهجية', 'الميثماتيكية', 'النمطية', 'إلمام', 'مخرج', 'مدني', 'مذكرة', 'مرسوم', 'مساحيق', 'مسالك', 'مصمم', 'معاصر', 'مقررات', 'مكيف', 'ملاك', 'ملتحي', 'منحنى', 'نائية', 'نبذة', 'نسيجي', 'نظامية', 'نعناعي', 'هزلي', 'واهية', 'وحشية', 'وعيد', 'يهودية', 'يونانية', 'يونيفورم', 'يونيكود']\n",
    "for word in words:\n",
    "    print(stemmer.stem(word))"
   ]
  },
  {
   "cell_type": "code",
   "execution_count": null,
   "metadata": {},
   "outputs": [],
   "source": []
  }
 ],
 "metadata": {
  "kernelspec": {
   "display_name": "base",
   "language": "python",
   "name": "python3"
  },
  "language_info": {
   "codemirror_mode": {
    "name": "ipython",
    "version": 3
   },
   "file_extension": ".py",
   "mimetype": "text/x-python",
   "name": "python",
   "nbconvert_exporter": "python",
   "pygments_lexer": "ipython3",
   "version": "3.9.12"
  },
  "orig_nbformat": 4
 },
 "nbformat": 4,
 "nbformat_minor": 2
}
